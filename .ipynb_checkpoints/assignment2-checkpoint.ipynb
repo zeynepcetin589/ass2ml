{
 "cells": [
  {
   "cell_type": "markdown",
   "id": "d848ef65da8b561d",
   "metadata": {},
   "source": [
    "# PART 1"
   ]
  },
  {
   "cell_type": "code",
   "execution_count": 2,
   "id": "initial_id",
   "metadata": {
    "jupyter": {
     "is_executing": true
    }
   },
   "outputs": [],
   "source": [
    "import pandas as pd\n",
    "import numpy as np\n",
    "from math import log2\n",
    "import copy\n",
    "from sklearn.model_selection import train_test_split\n",
    "from sklearn.metrics import accuracy_score, classification_report\n",
    "import matplotlib.pyplot as plt\n",
    "import seaborn as sns\n",
    "from sklearn.metrics import confusion_matrix, ConfusionMatrixDisplay"
   ]
  },
  {
   "cell_type": "markdown",
   "id": "b67887d1dd48e7f2",
   "metadata": {},
   "source": [
    "## Reading and Handling Data"
   ]
  },
  {
   "cell_type": "code",
   "execution_count": 4,
   "id": "b018cd3f9c342d83",
   "metadata": {
    "ExecuteTime": {
     "end_time": "2025-04-06T14:19:56.166796Z",
     "start_time": "2025-04-06T14:19:56.020056Z"
    }
   },
   "outputs": [
    {
     "data": {
      "text/html": [
       "<div>\n",
       "<style scoped>\n",
       "    .dataframe tbody tr th:only-of-type {\n",
       "        vertical-align: middle;\n",
       "    }\n",
       "\n",
       "    .dataframe tbody tr th {\n",
       "        vertical-align: top;\n",
       "    }\n",
       "\n",
       "    .dataframe thead th {\n",
       "        text-align: right;\n",
       "    }\n",
       "</style>\n",
       "<table border=\"1\" class=\"dataframe\">\n",
       "  <thead>\n",
       "    <tr style=\"text-align: right;\">\n",
       "      <th></th>\n",
       "      <th>Age</th>\n",
       "      <th>Gender</th>\n",
       "      <th>Education Level</th>\n",
       "      <th>Marital Status</th>\n",
       "      <th>Income</th>\n",
       "      <th>Credit Score</th>\n",
       "      <th>Loan Amount</th>\n",
       "      <th>Loan Purpose</th>\n",
       "      <th>Employment Status</th>\n",
       "      <th>Years at Current Job</th>\n",
       "      <th>Payment History</th>\n",
       "      <th>Debt-to-Income Ratio</th>\n",
       "      <th>Assets Value</th>\n",
       "      <th>Number of Dependents</th>\n",
       "      <th>City</th>\n",
       "      <th>State</th>\n",
       "      <th>Country</th>\n",
       "      <th>Previous Defaults</th>\n",
       "      <th>Marital Status Change</th>\n",
       "      <th>Risk Rating</th>\n",
       "    </tr>\n",
       "  </thead>\n",
       "  <tbody>\n",
       "    <tr>\n",
       "      <th>0</th>\n",
       "      <td>49</td>\n",
       "      <td>Male</td>\n",
       "      <td>PhD</td>\n",
       "      <td>Divorced</td>\n",
       "      <td>72799.0</td>\n",
       "      <td>688.0</td>\n",
       "      <td>45713.0</td>\n",
       "      <td>Business</td>\n",
       "      <td>Unemployed</td>\n",
       "      <td>19</td>\n",
       "      <td>Poor</td>\n",
       "      <td>0.154313</td>\n",
       "      <td>120228.0</td>\n",
       "      <td>0.0</td>\n",
       "      <td>Port Elizabeth</td>\n",
       "      <td>AS</td>\n",
       "      <td>Cyprus</td>\n",
       "      <td>2.0</td>\n",
       "      <td>2</td>\n",
       "      <td>Low</td>\n",
       "    </tr>\n",
       "    <tr>\n",
       "      <th>1</th>\n",
       "      <td>57</td>\n",
       "      <td>Female</td>\n",
       "      <td>Bachelor's</td>\n",
       "      <td>Widowed</td>\n",
       "      <td>NaN</td>\n",
       "      <td>690.0</td>\n",
       "      <td>33835.0</td>\n",
       "      <td>Auto</td>\n",
       "      <td>Employed</td>\n",
       "      <td>6</td>\n",
       "      <td>Fair</td>\n",
       "      <td>0.148920</td>\n",
       "      <td>55849.0</td>\n",
       "      <td>0.0</td>\n",
       "      <td>North Catherine</td>\n",
       "      <td>OH</td>\n",
       "      <td>Turkmenistan</td>\n",
       "      <td>3.0</td>\n",
       "      <td>2</td>\n",
       "      <td>Medium</td>\n",
       "    </tr>\n",
       "    <tr>\n",
       "      <th>2</th>\n",
       "      <td>21</td>\n",
       "      <td>Non-binary</td>\n",
       "      <td>Master's</td>\n",
       "      <td>Single</td>\n",
       "      <td>55687.0</td>\n",
       "      <td>600.0</td>\n",
       "      <td>36623.0</td>\n",
       "      <td>Home</td>\n",
       "      <td>Employed</td>\n",
       "      <td>8</td>\n",
       "      <td>Fair</td>\n",
       "      <td>0.362398</td>\n",
       "      <td>180700.0</td>\n",
       "      <td>3.0</td>\n",
       "      <td>South Scott</td>\n",
       "      <td>OK</td>\n",
       "      <td>Luxembourg</td>\n",
       "      <td>3.0</td>\n",
       "      <td>2</td>\n",
       "      <td>Medium</td>\n",
       "    </tr>\n",
       "    <tr>\n",
       "      <th>3</th>\n",
       "      <td>59</td>\n",
       "      <td>Male</td>\n",
       "      <td>Bachelor's</td>\n",
       "      <td>Single</td>\n",
       "      <td>26508.0</td>\n",
       "      <td>622.0</td>\n",
       "      <td>26541.0</td>\n",
       "      <td>Personal</td>\n",
       "      <td>Unemployed</td>\n",
       "      <td>2</td>\n",
       "      <td>Excellent</td>\n",
       "      <td>0.454964</td>\n",
       "      <td>157319.0</td>\n",
       "      <td>3.0</td>\n",
       "      <td>Robinhaven</td>\n",
       "      <td>PR</td>\n",
       "      <td>Uganda</td>\n",
       "      <td>4.0</td>\n",
       "      <td>2</td>\n",
       "      <td>Medium</td>\n",
       "    </tr>\n",
       "    <tr>\n",
       "      <th>4</th>\n",
       "      <td>25</td>\n",
       "      <td>Non-binary</td>\n",
       "      <td>Bachelor's</td>\n",
       "      <td>Widowed</td>\n",
       "      <td>49427.0</td>\n",
       "      <td>766.0</td>\n",
       "      <td>36528.0</td>\n",
       "      <td>Personal</td>\n",
       "      <td>Unemployed</td>\n",
       "      <td>10</td>\n",
       "      <td>Fair</td>\n",
       "      <td>0.143242</td>\n",
       "      <td>287140.0</td>\n",
       "      <td>NaN</td>\n",
       "      <td>New Heather</td>\n",
       "      <td>IL</td>\n",
       "      <td>Namibia</td>\n",
       "      <td>3.0</td>\n",
       "      <td>1</td>\n",
       "      <td>Low</td>\n",
       "    </tr>\n",
       "  </tbody>\n",
       "</table>\n",
       "</div>"
      ],
      "text/plain": [
       "   Age      Gender Education Level Marital Status   Income  Credit Score  \\\n",
       "0   49        Male             PhD       Divorced  72799.0         688.0   \n",
       "1   57      Female      Bachelor's        Widowed      NaN         690.0   \n",
       "2   21  Non-binary        Master's         Single  55687.0         600.0   \n",
       "3   59        Male      Bachelor's         Single  26508.0         622.0   \n",
       "4   25  Non-binary      Bachelor's        Widowed  49427.0         766.0   \n",
       "\n",
       "   Loan Amount Loan Purpose Employment Status  Years at Current Job  \\\n",
       "0      45713.0     Business        Unemployed                    19   \n",
       "1      33835.0         Auto          Employed                     6   \n",
       "2      36623.0         Home          Employed                     8   \n",
       "3      26541.0     Personal        Unemployed                     2   \n",
       "4      36528.0     Personal        Unemployed                    10   \n",
       "\n",
       "  Payment History  Debt-to-Income Ratio  Assets Value  Number of Dependents  \\\n",
       "0            Poor              0.154313      120228.0                   0.0   \n",
       "1            Fair              0.148920       55849.0                   0.0   \n",
       "2            Fair              0.362398      180700.0                   3.0   \n",
       "3       Excellent              0.454964      157319.0                   3.0   \n",
       "4            Fair              0.143242      287140.0                   NaN   \n",
       "\n",
       "              City State       Country  Previous Defaults  \\\n",
       "0   Port Elizabeth    AS        Cyprus                2.0   \n",
       "1  North Catherine    OH  Turkmenistan                3.0   \n",
       "2      South Scott    OK    Luxembourg                3.0   \n",
       "3       Robinhaven    PR        Uganda                4.0   \n",
       "4      New Heather    IL       Namibia                3.0   \n",
       "\n",
       "   Marital Status Change Risk Rating  \n",
       "0                      2         Low  \n",
       "1                      2      Medium  \n",
       "2                      2      Medium  \n",
       "3                      2      Medium  \n",
       "4                      1         Low  "
      ]
     },
     "metadata": {},
     "output_type": "display_data"
    }
   ],
   "source": [
    "path = \"financial_risk_assessment.csv\"\n",
    "df = pd.read_csv(path)\n",
    "display(df.head())"
   ]
  },
  {
   "cell_type": "markdown",
   "id": "6cf27b04bd0d348",
   "metadata": {},
   "source": [
    "\"Before training the model, it is essential to check for the presence of missing values, as they must be appropriately addressed to ensure accurate results.\""
   ]
  },
  {
   "cell_type": "code",
   "execution_count": 6,
   "id": "d37d903cc824b467",
   "metadata": {
    "ExecuteTime": {
     "end_time": "2025-04-06T14:19:56.246538Z",
     "start_time": "2025-04-06T14:19:56.214793Z"
    }
   },
   "outputs": [
    {
     "data": {
      "text/plain": [
       "Age                         0\n",
       "Gender                      0\n",
       "Education Level             0\n",
       "Marital Status              0\n",
       "Income                   2250\n",
       "Credit Score             2250\n",
       "Loan Amount              2250\n",
       "Loan Purpose                0\n",
       "Employment Status           0\n",
       "Years at Current Job        0\n",
       "Payment History             0\n",
       "Debt-to-Income Ratio        0\n",
       "Assets Value             2250\n",
       "Number of Dependents     2250\n",
       "City                        0\n",
       "State                       0\n",
       "Country                     0\n",
       "Previous Defaults        2250\n",
       "Marital Status Change       0\n",
       "Risk Rating                 0\n",
       "dtype: int64"
      ]
     },
     "execution_count": 6,
     "metadata": {},
     "output_type": "execute_result"
    }
   ],
   "source": [
    "df.isnull().sum()"
   ]
  },
  {
   "cell_type": "markdown",
   "id": "191edcb2ae01c7b5",
   "metadata": {},
   "source": [
    "\"To address the missing data, we chose to impute the mean for numerical columns and the mode for categorical columns. Given that there are 2,250 missing values across 6 columns in a dataset of 15,000 records, removing rows with missing data would result in the loss of at least one-sixth of the dataset. Consequently, filling the missing values was seemed a more suitable approach.\""
   ]
  },
  {
   "cell_type": "code",
   "execution_count": 8,
   "id": "ed4800eb67330a05",
   "metadata": {
    "ExecuteTime": {
     "end_time": "2025-04-06T14:19:56.638961Z",
     "start_time": "2025-04-06T14:19:56.533996Z"
    }
   },
   "outputs": [],
   "source": [
    "for (columnName,columnData) in df.items():\n",
    "    if columnData.dtype in ['float64', 'int64']:\n",
    "        df[columnName] = df[columnName].fillna(columnData.mean())\n",
    "    else:\n",
    "        df[columnName] = df[columnName].fillna(columnData.mode()[0])"
   ]
  },
  {
   "cell_type": "markdown",
   "id": "e02da1d537490824",
   "metadata": {},
   "source": [
    "Due to the presence of numerous non-binary attributes and limited computational capacity, we are unable to include all of our attributes in the model. As a result, we need to focus on the most relevant features. Therefore, we decided to drop the least important columns based on our assessment."
   ]
  },
  {
   "cell_type": "code",
   "execution_count": 10,
   "id": "dc24f6cb59824fb9",
   "metadata": {
    "ExecuteTime": {
     "end_time": "2025-04-06T14:19:56.849435Z",
     "start_time": "2025-04-06T14:19:56.832944Z"
    }
   },
   "outputs": [],
   "source": [
    "df = df.drop(columns=['City', 'State', 'Country', 'Marital Status Change'])"
   ]
  },
  {
   "cell_type": "markdown",
   "id": "da0b8707862ae518",
   "metadata": {},
   "source": [
    "In accordance with the principles of Decision Tree algorithms, we chose to create average values for certain columns and assign others to the closest category. The idea behind this decision is that some of our columns have an excessive number of unique values, which complicates the splitting process at each node. To address this issue, we decided to limit the maximum number of distinct values allowed in each column, thereby simplifying the model's decision-making process."
   ]
  },
  {
   "cell_type": "code",
   "execution_count": 12,
   "id": "12bf8809bb9735c8",
   "metadata": {
    "ExecuteTime": {
     "end_time": "2025-04-06T14:19:57.035025Z",
     "start_time": "2025-04-06T14:19:56.995432Z"
    }
   },
   "outputs": [],
   "source": [
    "def bin_numerical_columns(df, num_bins=7):\n",
    "    \"\"\"\n",
    "    Bins numerical columns into 'num_bins' discrete categories.\n",
    "    Each numerical value is rounded to the nearest bin based on its range.\n",
    "\n",
    "    Parameters:\n",
    "    - df (pd.DataFrame): The input DataFrame.\n",
    "    - num_bins (int): The number of bins to create for numerical columns.\n",
    "\n",
    "    Returns:\n",
    "    - df (pd.DataFrame): The DataFrame with binned numerical columns.\n",
    "    \"\"\"\n",
    "    for column in df.columns:\n",
    "        # Check if the column is numerical\n",
    "        if np.issubdtype(df[column].dtype, np.number):\n",
    "            # Create bins using np.linspace to get evenly spaced bins based on min and max values\n",
    "            min_val = df[column].min()\n",
    "            max_val = df[column].max()\n",
    "            bins = np.linspace(min_val, max_val, num_bins+1)\n",
    "\n",
    "            # Assign each value to the closest bin\n",
    "            df[column] = pd.cut(df[column], bins=bins, labels=np.arange(1, num_bins+1), include_lowest=True)\n",
    "\n",
    "    return df\n",
    "df = bin_numerical_columns(df)"
   ]
  },
  {
   "cell_type": "markdown",
   "id": "ab62a891f3e59481",
   "metadata": {},
   "source": [
    "Since we cannot use external labels, we need to generate our own labels for the data. To do this, we decided to create a custom function that assigns a unique integer to each distinct attribute value, starting from 0 up to n, where n represents the number of unique values in the column. Additionally, we print the key-value pairs of the mappings for reference."
   ]
  },
  {
   "cell_type": "code",
   "execution_count": 14,
   "id": "a9fbaa9b54c97086",
   "metadata": {
    "ExecuteTime": {
     "end_time": "2025-04-06T14:19:57.223188Z",
     "start_time": "2025-04-06T14:19:57.123775Z"
    }
   },
   "outputs": [
    {
     "name": "stdout",
     "output_type": "stream",
     "text": [
      "==================================================\n",
      "COLUMN ENCODING MAPPINGS\n",
      "==================================================\n",
      "\n",
      "Column: Gender\n",
      "----------------------------------------\n",
      "  0 → Male\n",
      "  1 → Female\n",
      "  2 → Non-binary\n",
      "Total categories: 3\n",
      "\n",
      "Column: Education Level\n",
      "----------------------------------------\n",
      "  0 → PhD\n",
      "  1 → Bachelor's\n",
      "  2 → Master's\n",
      "  3 → High School\n",
      "Total categories: 4\n",
      "\n",
      "Column: Marital Status\n",
      "----------------------------------------\n",
      "  0 → Divorced\n",
      "  1 → Widowed\n",
      "  2 → Single\n",
      "  3 → Married\n",
      "Total categories: 4\n",
      "\n",
      "Column: Loan Purpose\n",
      "----------------------------------------\n",
      "  0 → Business\n",
      "  1 → Auto\n",
      "  2 → Home\n",
      "  3 → Personal\n",
      "Total categories: 4\n",
      "\n",
      "Column: Employment Status\n",
      "----------------------------------------\n",
      "  0 → Unemployed\n",
      "  1 → Employed\n",
      "  2 → Self-employed\n",
      "Total categories: 3\n",
      "\n",
      "Column: Payment History\n",
      "----------------------------------------\n",
      "  0 → Poor\n",
      "  1 → Fair\n",
      "  2 → Excellent\n",
      "  3 → Good\n",
      "Total categories: 4\n",
      "\n",
      "Column: Risk Rating\n",
      "----------------------------------------\n",
      "  0 → Low\n",
      "  1 → Medium\n",
      "  2 → High\n",
      "Total categories: 3\n"
     ]
    }
   ],
   "source": [
    "encoding_maps = {}\n",
    "def dynamic_encode(column):\n",
    "    encoding_map = {}\n",
    "    encoded_values = []\n",
    "    current_max = 0\n",
    "\n",
    "    for value in column:\n",
    "        if value not in encoding_map:\n",
    "            encoding_map[value] = current_max\n",
    "            current_max += 1\n",
    "        encoded_values.append(encoding_map[value])\n",
    "\n",
    "    return encoded_values, encoding_map\n",
    "\n",
    "for column in df.columns:\n",
    "    if df[column].dtype == 'object':\n",
    "        encoded_column, encoding_map = dynamic_encode(df[column])\n",
    "        df[column] = encoded_column\n",
    "        encoding_maps[column] = encoding_map\n",
    "print(\"=\"*50)\n",
    "print(\"COLUMN ENCODING MAPPINGS\")\n",
    "print(\"=\"*50)\n",
    "\n",
    "for column_name, mapping in encoding_maps.items():\n",
    "    print(f\"\\nColumn: {column_name}\")\n",
    "    print(\"-\"*40)\n",
    "    for value, code in mapping.items():\n",
    "        print(f\"{code:>3} → {value}\")\n",
    "    print(f\"Total categories: {len(mapping)}\")"
   ]
  },
  {
   "cell_type": "markdown",
   "id": "92a7d7327b49f782",
   "metadata": {},
   "source": [
    "The data is split into 70% for training, 15% for validation, and 15% for testing with the help of sklearn library."
   ]
  },
  {
   "cell_type": "code",
   "execution_count": 16,
   "id": "9ccd02949664d8bb",
   "metadata": {
    "ExecuteTime": {
     "end_time": "2025-04-06T14:19:57.343560Z",
     "start_time": "2025-04-06T14:19:57.316077Z"
    }
   },
   "outputs": [],
   "source": [
    "X = df.iloc[:, :-1]\n",
    "y = df.iloc[:, -1]\n",
    "\n",
    "X_train, X_temp, y_train, y_temp = train_test_split(X, y, test_size=0.3, random_state=42)\n",
    "X_val, X_test, y_val, y_test = train_test_split(X_temp, y_temp, test_size=0.5, random_state=42)"
   ]
  },
  {
   "cell_type": "markdown",
   "id": "5c9703aa46640548",
   "metadata": {},
   "source": [
    "## ID3 Algorithm"
   ]
  },
  {
   "cell_type": "markdown",
   "id": "3a79a2d73684aa0e",
   "metadata": {},
   "source": [
    "Before the ID3 algorithm is implemented, some helper functions are defined. The entropy function is used to calculate the entropy of the target column, which measures the uncertainty of the data. The info_gain function is used to calculate the information gain for a given feature, helping in the selection of the best feature to split on. By computing the entropy for each feature and selecting the one with the highest information gain, the most informative splits are made at each node of the decision tree."
   ]
  },
  {
   "cell_type": "code",
   "execution_count": 19,
   "id": "20e3e2567e045d7d",
   "metadata": {
    "ExecuteTime": {
     "end_time": "2025-04-06T14:19:57.438500Z",
     "start_time": "2025-04-06T14:19:57.425806Z"
    }
   },
   "outputs": [],
   "source": [
    "def entropy(target_col):\n",
    "    \"\"\"\n",
    "    Calculate entropy of a target column\n",
    "    \"\"\"\n",
    "    elements, counts = np.unique(target_col, return_counts=True)\n",
    "    entropy = -np.sum([(counts[i]/np.sum(counts)) * log2(counts[i]/np.sum(counts))\n",
    "                      for i in range(len(elements))])\n",
    "    return entropy\n",
    "\n",
    "def info_gain(data, feature, target_name):\n",
    "    \"\"\"\n",
    "    Calculate information gain for splitting on a feature\n",
    "    \"\"\"\n",
    "    total_entropy = entropy(data[target_name])\n",
    "\n",
    "    # Calculate weighted entropy\n",
    "    vals, counts = np.unique(data[feature], return_counts=True)\n",
    "    weighted_entropy = np.sum([(counts[i]/np.sum(counts)) *\n",
    "                             entropy(data.where(data[feature]==vals[i]).dropna()[target_name])\n",
    "                             for i in range(len(vals))])\n",
    "\n",
    "    return total_entropy - weighted_entropy"
   ]
  },
  {
   "cell_type": "markdown",
   "id": "c56136acd8244ebd",
   "metadata": {},
   "source": [
    "### How ID3 Algorithm Works:"
   ]
  },
  {
   "cell_type": "markdown",
   "id": "8141728631cfd528",
   "metadata": {},
   "source": [
    "#### 1. Stopping Conditions:\n",
    "The algorithm stops growing the tree under two conditions:\n",
    "- If all the instances in the current dataset belong to the same class (i.e., no diversity in the target label), the algorithm terminates and returns the class label of the majority.\n",
    "- If no features remain to split on or the maximum depth of the tree (`max_depth`) has been reached, the algorithm assigns the most frequent class in the current subset of data.\n",
    "\n",
    "#### 2. Feature Selection:\n",
    "At each node, the algorithm calculates the **information gain** for each feature using the entropy of the dataset and selects the feature with the highest information gain to split the data. This helps in finding the best feature that divides the data in a way that maximizes the homogeneity of the resulting subsets.\n",
    "\n",
    "#### 3. Tree Construction:\n",
    "The tree is constructed by recursively splitting the data at each node:\n",
    "- The feature with the highest information gain is selected for the split.\n",
    "- The dataset is partitioned based on the values of the selected feature.\n",
    "- This process continues recursively for each subset of the data, creating new nodes in the tree.\n",
    "- Each node represents a decision based on the selected feature, and the tree is grown until a stopping condition is met.\n",
    "\n",
    "#### 4. How the ID3 Algorithm Works:\n",
    "The implementation of the ID3 algorithm works as follows:\n",
    "1. **Stopping Conditions:** The algorithm checks if the dataset is homogeneous (all instances belong to the same class) or if there are no more features to split on. If either condition is met, the algorithm returns the majority class label.\n",
    "2. **Feature Selection:** The algorithm calculates the information gain for each feature and selects the feature with the highest gain to split the data.\n",
    "3. **Recursion:** The dataset is split based on the selected feature, and the process is repeated recursively on each subset. This creates branches in the tree, and the process continues until the stopping conditions are met.\n",
    "4. **Tree Construction:** The result is a decision tree where each node corresponds to a decision based on a feature, and each leaf node corresponds to a class label."
   ]
  },
  {
   "cell_type": "code",
   "execution_count": 22,
   "id": "be2c86702302200a",
   "metadata": {
    "ExecuteTime": {
     "end_time": "2025-04-06T14:19:57.533689Z",
     "start_time": "2025-04-06T14:19:57.518693Z"
    }
   },
   "outputs": [],
   "source": [
    "def id3(data, original_data, features, target_name, max_depth=None, current_depth=0):\n",
    "    \"\"\"\n",
    "    ID3 Algorithm implementation\n",
    "    \"\"\"\n",
    "    # Stopping conditions\n",
    "    if len(np.unique(data[target_name])) <= 1:\n",
    "        return np.unique(data[target_name])[0]\n",
    "\n",
    "    if len(features) == 0 or (max_depth is not None and current_depth == max_depth):\n",
    "        return np.unique(data[target_name])[np.argmax(np.unique(data[target_name], return_counts=True)[1])]\n",
    "\n",
    "    # Select best feature\n",
    "    gains = [info_gain(data, feature, target_name) for feature in features]\n",
    "    best_feature = features[np.argmax(gains)]\n",
    "\n",
    "    # Create tree structure\n",
    "    tree = {best_feature: {}}\n",
    "\n",
    "    # Remove best feature from features\n",
    "    features = [f for f in features if f != best_feature]\n",
    "\n",
    "    # Grow tree recursively\n",
    "    for value in np.unique(data[best_feature]):\n",
    "        sub_data = data.where(data[best_feature] == value).dropna()\n",
    "\n",
    "        if len(sub_data) == 0:\n",
    "            tree[best_feature][value] = np.unique(original_data[target_name])[\n",
    "                np.argmax(np.unique(original_data[target_name], return_counts=True)[1])]\n",
    "        else:\n",
    "            tree[best_feature][value] = id3(sub_data, original_data, features,\n",
    "                                           target_name, max_depth, current_depth+1)\n",
    "\n",
    "    return tree"
   ]
  },
  {
   "cell_type": "markdown",
   "id": "9137e4fe43c6ed58",
   "metadata": {},
   "source": [
    "## Predict Function for ID3 Algorithm\n",
    "\n",
    "The `predict` function is used to make predictions on new, unseen data using the decision tree that was built by the ID3 algorithm. It traverses the tree based on the feature values of the given sample, starting from the root node and moving down through the tree until it reaches a leaf node with a class label.\n",
    "\n",
    "### How the `predict` Function Works:\n",
    "\n",
    "1. **Traversal through the Tree:**\n",
    "   The function starts by iterating over the keys (features) in the decision tree. Each feature corresponds to a decision point (node) in the tree.\n",
    "\n",
    "2. **Decision at Each Node:**\n",
    "   For each feature in the tree, the corresponding value from the input sample (`sample[feature]`) is checked. If the value exists in the current node’s dictionary, the tree moves to the next level, where the value corresponds to a new subtree.\n",
    "\n",
    "3. **Recursive Traversal:**\n",
    "   - If the subtree is a dictionary (indicating that the node is not a leaf), the function calls itself recursively to continue the search down the tree.\n",
    "   - If a leaf node (a class label) is reached, the function returns the predicted class label.\n",
    "\n",
    "### Purpose:\n",
    "This function enables the decision tree to make a prediction by following the path dictated by the feature values in the input sample, ultimately returning the predicted class label for classification problems."
   ]
  },
  {
   "cell_type": "code",
   "execution_count": 24,
   "id": "5e70fecf52aa24b6",
   "metadata": {
    "ExecuteTime": {
     "end_time": "2025-04-06T14:19:57.621120Z",
     "start_time": "2025-04-06T14:19:57.612808Z"
    }
   },
   "outputs": [],
   "source": [
    "def predict(tree, sample):\n",
    "    \"\"\"\n",
    "    Predicts the class label for a single sample using the trained decision tree.\n",
    "\n",
    "    Args:\n",
    "        tree: The trained decision tree (nested dictionary structure)\n",
    "        sample: A single data instance (dictionary or pandas Series)\n",
    "\n",
    "    Returns:\n",
    "        Predicted class label or None for unseen feature values\n",
    "    \"\"\"\n",
    "    # Get the first/only feature in the current node\n",
    "    current_feature = next(iter(tree))\n",
    "\n",
    "    # Get the feature value from the sample\n",
    "    feature_value = sample[current_feature]\n",
    "\n",
    "    # Check if this value exists in our tree\n",
    "    if feature_value in tree[current_feature]:\n",
    "        subtree = tree[current_feature][feature_value]\n",
    "\n",
    "        # If we've reached a leaf node, return its value\n",
    "        if not isinstance(subtree, dict):\n",
    "            return subtree\n",
    "\n",
    "        # Otherwise continue recursively\n",
    "        return predict(subtree, sample)\n",
    "\n",
    "    # Handle unseen feature values\n",
    "    return None"
   ]
  },
  {
   "cell_type": "markdown",
   "id": "c8d599588a346bbc",
   "metadata": {},
   "source": [
    "The decision tree is built using the ID3 algorithm, and predictions are made on the validation and test sets. The performance metrics, such as confusion matrices and accuracies, are then acquired to evaluate the model's effectiveness."
   ]
  },
  {
   "cell_type": "code",
   "execution_count": 26,
   "id": "2b85ec0abc3a088b",
   "metadata": {
    "ExecuteTime": {
     "end_time": "2025-04-06T14:21:16.841790Z",
     "start_time": "2025-04-06T14:19:57.740527Z"
    }
   },
   "outputs": [
    {
     "name": "stdout",
     "output_type": "stream",
     "text": [
      "Test Set Evaluation\n",
      "--------------------------------------------------\n"
     ]
    },
    {
     "data": {
      "image/png": "[encoded data removed]",
      "text/plain": [
       "<Figure size 600x500 with 2 Axes>"
      ]
     },
     "metadata": {},
     "output_type": "display_data"
    },
    {
     "name": "stdout",
     "output_type": "stream",
     "text": [
      "Accuracy: 0.5391\n",
      "Precision per class:\n",
      "  0: 0.6028\n",
      "  1: 0.2976\n",
      "  2: 0.1290\n",
      "Recall per class:\n",
      "  0: 0.8104\n",
      "  1: 0.1654\n",
      "  2: 0.0349\n",
      "F1 Score per class:\n",
      "  0: 0.6913\n",
      "  1: 0.2126\n",
      "  2: 0.0550\n",
      "Macro Averages:\n",
      "  Precision: 0.3431\n",
      "  Recall:    0.3369\n",
      "  F1 Score:  0.3196\n",
      "\n",
      "Validation Set Evaluation\n",
      "--------------------------------------------------\n"
     ]
    },
    {
     "data": {
      "image/png": "[encoded data removed]",
      "text/plain": [
       "<Figure size 600x500 with 2 Axes>"
      ]
     },
     "metadata": {},
     "output_type": "display_data"
    },
    {
     "name": "stdout",
     "output_type": "stream",
     "text": [
      "Accuracy: 0.5324\n",
      "Precision per class:\n",
      "  0: 0.5931\n",
      "  1: 0.2828\n",
      "  2: 0.1818\n",
      "Recall per class:\n",
      "  0: 0.8048\n",
      "  1: 0.1679\n",
      "  2: 0.0249\n",
      "F1 Score per class:\n",
      "  0: 0.6829\n",
      "  1: 0.2107\n",
      "  2: 0.0438\n",
      "Macro Averages:\n",
      "  Precision: 0.3526\n",
      "  Recall:    0.3325\n",
      "  F1 Score:  0.3125\n"
     ]
    }
   ],
   "source": [
    "from sklearn.metrics import confusion_matrix\n",
    "import matplotlib.pyplot as plt\n",
    "import seaborn as sns\n",
    "import numpy as np\n",
    "\n",
    "# Train the model on the training set\n",
    "decision_tree = id3(\n",
    "    data=pd.concat([X_train, y_train], axis=1),\n",
    "    original_data=pd.concat([X_train, y_train], axis=1),\n",
    "    features=list(X_train.columns),\n",
    "    target_name=y_train.name,\n",
    "    max_depth=4\n",
    ")\n",
    "\n",
    "# Function to predict on a DataFrame\n",
    "def predict_df(tree, X):\n",
    "    predictions = []\n",
    "    for i in range(len(X)):\n",
    "        pred = predict(tree, X.iloc[i])\n",
    "        predictions.append(pred)\n",
    "    return predictions\n",
    "\n",
    "# Get predictions\n",
    "y_val_pred = predict_df(decision_tree, X_val)\n",
    "y_test_pred = predict_df(decision_tree, X_test)\n",
    "\n",
    "# Handle None predictions by replacing them with most common class\n",
    "most_common_class = y_train.mode()[0]\n",
    "y_val_pred = [p if p is not None else most_common_class for p in y_val_pred]\n",
    "y_test_pred = [p if p is not None else most_common_class for p in y_test_pred]\n",
    "\n",
    "# Plotting confusion matrix\n",
    "def plot_confusion_matrix(y_true, y_pred, title):\n",
    "    labels = sorted(list(set(y_true) | set(y_pred)))\n",
    "    cm = confusion_matrix(y_true, y_pred, labels=labels)\n",
    "    plt.figure(figsize=(6, 5))\n",
    "    sns.heatmap(cm, annot=True, fmt='d', cmap='Blues',\n",
    "                xticklabels=labels, yticklabels=labels)\n",
    "    plt.title(title)\n",
    "    plt.xlabel('Predicted Label')\n",
    "    plt.ylabel('True Label')\n",
    "    plt.tight_layout()\n",
    "    plt.show()\n",
    "    return cm, labels\n",
    "\n",
    "# Manual metric calculation\n",
    "def manual_metrics(cm, labels):\n",
    "    total = cm.sum()\n",
    "    correct = 0\n",
    "    precisions = []\n",
    "    recalls = []\n",
    "    f1s = []\n",
    "\n",
    "    for i in range(len(cm)):\n",
    "        TP = cm[i][i]\n",
    "        FP = sum(cm[:, i]) - TP\n",
    "        FN = sum(cm[i, :]) - TP\n",
    "\n",
    "        if (TP + FP) > 0:\n",
    "            precision = TP / (TP + FP)\n",
    "        else:\n",
    "            precision = 0\n",
    "\n",
    "        if (TP + FN) > 0:\n",
    "            recall = TP / (TP + FN)\n",
    "        else:\n",
    "            recall = 0\n",
    "\n",
    "        if (precision + recall) > 0:\n",
    "            f1 = (2 * precision * recall) / (precision + recall)\n",
    "        else:\n",
    "            f1 = 0\n",
    "\n",
    "        precisions.append(precision)\n",
    "        recalls.append(recall)\n",
    "        f1s.append(f1)\n",
    "        correct += TP\n",
    "\n",
    "    accuracy = correct / total if total > 0 else 0\n",
    "\n",
    "    print(f\"Accuracy: {accuracy:.4f}\")\n",
    "    print(\"Precision per class:\")\n",
    "    for lbl, val in zip(labels, precisions):\n",
    "        print(f\"  {lbl}: {val:.4f}\")\n",
    "    print(\"Recall per class:\")\n",
    "    for lbl, val in zip(labels, recalls):\n",
    "        print(f\"  {lbl}: {val:.4f}\")\n",
    "    print(\"F1 Score per class:\")\n",
    "    for lbl, val in zip(labels, f1s):\n",
    "        print(f\"  {lbl}: {val:.4f}\")\n",
    "    print(\"Macro Averages:\")\n",
    "    print(f\"  Precision: {np.mean(precisions):.4f}\")\n",
    "    print(f\"  Recall:    {np.mean(recalls):.4f}\")\n",
    "    print(f\"  F1 Score:  {np.mean(f1s):.4f}\")\n",
    "\n",
    "# Test Set Evaluation\n",
    "print(\"Test Set Evaluation\")\n",
    "print(\"-\" * 50)\n",
    "cm_test, labels_test = plot_confusion_matrix(y_test, y_test_pred, \"Test Set Confusion Matrix\")\n",
    "manual_metrics(cm_test, labels_test)\n",
    "\n",
    "# Validation Set Evaluation\n",
    "print(\"\\nValidation Set Evaluation\")\n",
    "print(\"-\" * 50)\n",
    "cm_val, labels_val = plot_confusion_matrix(y_val, y_val_pred, \"Validation Set Confusion Matrix\")\n",
    "manual_metrics(cm_val, labels_val)\n"
   ]
  },
  {
   "cell_type": "markdown",
   "id": "80f58e5e431ce6c9",
   "metadata": {},
   "source": [
    "It has been observed that the model is experiencing an overfitting issue, with a tendency to predict most individuals as having a low (0) risk score. This bias is likely caused by the distribution of the dataset, which appears to be relatively balanced across the different risk classes. Prior to the preprocessing steps, such as column removal and the binning method, the model predominantly predicted all instances as belonging to the low-risk category. After implementing these operations, the dataset was adjusted in a way that enabled the model to predict a wider range of outcomes. However, despite these efforts, the model's performance still exhibits a significant skew towards predicting the low-risk class, as shown by the confusion matrices and classification reports.\n",
    "The performance metrics from both the test and validation sets highlight this issue. The test set results show an accuracy of 0.54, with a macro average precision of 0.34, recall of 0.34, and F1-score of 0.32. Similarly, the validation set results indicate an accuracy of 0.53, with macro averages of 0.35 for precision, 0.33 for recall, and 0.31 for F1-score. These metrics suggest that while the model is better than random guessing, it still struggles to effectively differentiate between the risk classes, particularly for the higher risk categories (1 and 2). The performance on these classes is notably poor, as evidenced by the low precision, recall, and F1-scores for these classes in both the test and validation reports.The performance metrics from both the test and validation sets reveal an overfitting issue. The model achieves an accuracy of around 0.54, but struggles to differentiate between higher risk categories, with low precision, recall, and F1-scores for classes 1 and 2. Despite preprocessing steps like feature reduction and dataset modification, the model still tends to predict low risk."
   ]
  },
  {
   "cell_type": "markdown",
   "id": "93d102d52c486838",
   "metadata": {},
   "source": [
    "# PART 2"
   ]
  },
  {
   "cell_type": "markdown",
   "id": "7679cffd749b4237",
   "metadata": {},
   "source": [
    "# Pruning Paths with Low Information Gain\n",
    "\n",
    "## 1. Information Gain Threshold:\n",
    "At each node, the information gain is calculated for each feature. If the information gain is lower than a specified threshold (`min_ig_threshold`), it indicates that the feature does not contribute significantly to distinguishing between classes. The tree will then consider pruning these branches, simplifying the model.\n",
    "\n",
    "## 2. Pruning Process:\n",
    "- **Path Selection:** The tree identifies the weakest branches based on information gain.\n",
    "- **Majority Class Assignment:** For each path that will be pruned, the algorithm assigns the most frequent class label within the subset of the data corresponding to that path. This results in a leaf node that simply predicts the majority class for that subset of data.\n",
    "- **Recursion:** The pruning process continues recursively down the tree, pruning paths that contribute the least to class differentiation.\n",
    "\n",
    "## 3. How the Pruning Algorithm Works:\n",
    "The pruning algorithm works as follows:\n",
    "1. **Identify Weak Paths:** The algorithm first identifies paths in the decision tree that have the lowest information gain. These paths are potential candidates for pruning.\n",
    "2. **Prune Paths:** Each selected path is pruned by replacing its branches with a majority class prediction based on the data subset that followed that path.\n",
    "3. **Evaluate the Impact on Performance:** After pruning each path, the tree is evaluated on a validation set to check for performance changes (using metrics like accuracy).\n",
    "4. **Stopping Condition:** The algorithm stops pruning when no further improvement is observed, or when all paths with low information gain have been pruned.\n",
    "\n",
    "## 4. Tree Construction After Pruning:\n",
    "- The pruned tree is smaller and simpler, with fewer branches. Each node now represents a more generalized decision, based on the most frequent class label for that subset.\n",
    "- The process of pruning continues recursively until no more low-information-gain branches remain or the performance of the tree is no longer improving.\n"
   ]
  },
  {
   "cell_type": "code",
   "execution_count": 30,
   "id": "f474e9ed785ee51a",
   "metadata": {
    "ExecuteTime": {
     "end_time": "2025-04-06T14:21:31.173103Z",
     "start_time": "2025-04-06T14:21:16.928664Z"
    }
   },
   "outputs": [
    {
     "name": "stdout",
     "output_type": "stream",
     "text": [
      "\n",
      "Top 5 weakest paths to prune:\n",
      "1. Previous Defaults (IG: 0.0013, Samples: 10500)\n",
      "2. Previous Defaults → 4 → Age (IG: 0.0034, Samples: 3353)\n",
      "3. Previous Defaults → 6 → Age (IG: 0.0053, Samples: 1769)\n",
      "4. Previous Defaults → 2 → Assets Value (IG: 0.0058, Samples: 1749)\n",
      "5. Previous Defaults → 1 → Income (IG: 0.0075, Samples: 1821)\n",
      "\n",
      "Initial validation accuracy: 0.5324\n",
      "\n",
      "Pruning path 1: Previous Defaults\n",
      "New accuracy: 0.5964 (Δ+0.0640)\n",
      "\n",
      "Pruning path 2: Previous Defaults → 4 → Age\n",
      "New accuracy: 0.5964 (Δ+0.0000)\n",
      "\n",
      "Pruning path 3: Previous Defaults → 6 → Age\n",
      "New accuracy: 0.5964 (Δ+0.0000)\n",
      "\n",
      "Pruning path 4: Previous Defaults → 2 → Assets Value\n",
      "New accuracy: 0.5964 (Δ+0.0000)\n",
      "\n",
      "Pruning path 5: Previous Defaults → 1 → Income\n",
      "New accuracy: 0.5964 (Δ+0.0000)\n",
      "\n",
      "Final Pruned Tree Performance:\n"
     ]
    },
    {
     "data": {
      "image/png": "[encoded data removed]",
      "text/plain": [
       "<Figure size 600x500 with 2 Axes>"
      ]
     },
     "metadata": {},
     "output_type": "display_data"
    },
    {
     "name": "stdout",
     "output_type": "stream",
     "text": [
      "              precision    recall  f1-score   support\n",
      "\n",
      "           0       0.60      1.00      0.75      1342\n",
      "           1       0.00      0.00      0.00       667\n",
      "           2       0.00      0.00      0.00       241\n",
      "\n",
      "    accuracy                           0.60      2250\n",
      "   macro avg       0.20      0.33      0.25      2250\n",
      "weighted avg       0.36      0.60      0.45      2250\n",
      "\n"
     ]
    }
   ],
   "source": [
    "from matplotlib import cm\n",
    "\n",
    "\n",
    "def get_weakest_twigs_with_ig(tree, X_train, y_train, target_name, top_n=5, print_output=True):\n",
    "    \"\"\"Analyze the tree and return the top-n weakest twigs based on Information Gain\"\"\"\n",
    "    full_data = pd.concat([X_train, y_train], axis=1)\n",
    "    node_info = []\n",
    "\n",
    "    def traverse(node, path=[]):\n",
    "        if isinstance(node, dict):\n",
    "            for feature, branches in node.items():\n",
    "                subset = full_data.copy()\n",
    "                for f, v in zip(path[::2], path[1::2]):\n",
    "                    subset = subset[subset[f] == v]\n",
    "\n",
    "                if subset.empty:\n",
    "                    continue\n",
    "\n",
    "                current_ig = info_gain(subset, feature, target_name)\n",
    "                class_dist = subset[target_name].value_counts(normalize=True).to_dict()\n",
    "\n",
    "                node_info.append({\n",
    "                    'path': path + [feature],\n",
    "                    'ig': current_ig,\n",
    "                    'class_dist': class_dist,\n",
    "                    'n_samples': len(subset)\n",
    "                })\n",
    "\n",
    "                for value, subtree in branches.items():\n",
    "                    traverse(subtree, path + [feature, value])\n",
    "\n",
    "    traverse(tree)\n",
    "\n",
    "    node_report = pd.DataFrame(node_info).sort_values('ig').reset_index(drop=True)\n",
    "\n",
    "    if print_output:\n",
    "        print(f\"\\nTop {top_n} weakest paths to prune:\")\n",
    "        for i, row in node_report.head(top_n).iterrows():\n",
    "            print(f\"{i+1}. {' → '.join(map(str, row['path']))} (IG: {row['ig']:.4f}, Samples: {row['n_samples']})\")\n",
    "\n",
    "    return node_report.head(top_n)['path'].tolist()\n",
    "\n",
    "\n",
    "def prune_paths_by_majority_class(tree, paths_to_prune, X_train, y_train, X_val, y_val, target_name):\n",
    "    \"\"\"Prune given paths and evaluate performance after each pruning\"\"\"\n",
    "    current_tree = copy.deepcopy(tree)\n",
    "    majority_class = y_train.mode()[0]\n",
    "\n",
    "    # Helper: prune specific path\n",
    "    def prune_path(tree, path):\n",
    "        node = tree\n",
    "        for step in path[:-1]:\n",
    "          if isinstance(node, dict):\n",
    "            node = node.get(step, {})\n",
    "          else:\n",
    "            # We’ve reached a leaf too early, abort pruning this path\n",
    "            return\n",
    "\n",
    "        last_feature = path[-1]\n",
    "\n",
    "        subset = pd.concat([X_train, y_train], axis=1)\n",
    "        for feature, value in zip(path[::2], path[1::2]):\n",
    "            subset = subset[subset[feature] == value]\n",
    "\n",
    "        majority = subset[target_name].mode()[0] if not subset.empty else majority_class\n",
    "\n",
    "        if isinstance(node, dict) and last_feature in node:\n",
    "            for val in node[last_feature]:\n",
    "                node[last_feature][val] = majority\n",
    "\n",
    "    # Initial evaluation\n",
    "    y_val_pred = predict_df(current_tree, X_val)\n",
    "    y_val_pred = [pred if pred is not None else majority_class for pred in y_val_pred]\n",
    "    last_acc = accuracy_score(y_val, y_val_pred)\n",
    "    print(f\"\\nInitial validation accuracy: {last_acc:.4f}\")\n",
    "\n",
    "    for i, path in enumerate(paths_to_prune, 1):\n",
    "        print(f\"\\nPruning path {i}: {' → '.join(map(str, path))}\")\n",
    "        prune_path(current_tree, path)\n",
    "\n",
    "        y_val_pred = predict_df(current_tree, X_val)\n",
    "        y_val_pred = [pred if pred is not None else majority_class for pred in y_val_pred]\n",
    "        current_acc = accuracy_score(y_val, y_val_pred)\n",
    "        print(f\"New accuracy: {current_acc:.4f} (Δ{current_acc - last_acc:+.4f})\")\n",
    "        last_acc = current_acc\n",
    "\n",
    "    return current_tree\n",
    "# Step 1: Get weakest twigs\n",
    "weakest_paths = get_weakest_twigs_with_ig(decision_tree, X_train, y_train, y_train.name, top_n=5)\n",
    "\n",
    "# Step 2: Prune and evaluate\n",
    "pruned_tree = prune_paths_by_majority_class(\n",
    "    decision_tree,\n",
    "    weakest_paths,\n",
    "    X_train, y_train,\n",
    "    X_val, y_val,\n",
    "    y_train.name\n",
    ")\n",
    "\n",
    "# Final performance after pruning\n",
    "print(\"\\nFinal Pruned Tree Performance:\")\n",
    "y_val_pred = predict_df(pruned_tree, X_val)\n",
    "\n",
    "# Replace None predictions with the most common class\n",
    "y_val_pred = [p if p is not None else most_common_class for p in y_val_pred]\n",
    "\n",
    "# Plot confusion matrix\n",
    "cm_pruned, labels_pruned = plot_confusion_matrix(\n",
    "    y_val, y_val_pred,\n",
    "    \"Validation Set Confusion Matrix On Pruned Tree\"\n",
    ")\n",
    "\n",
    "# Calculate and print manual metrics instead of using classification_report\n",
    "manual_metrics(cm_pruned, labels_pruned)\n"
   ]
  },
  {
   "cell_type": "code",
   "execution_count": null,
   "id": "3c5ff35a97f386bf",
   "metadata": {
    "ExecuteTime": {
     "end_time": "2025-04-06T14:21:31.194469Z",
     "start_time": "2025-04-06T14:21:31.191115Z"
    }
   },
   "outputs": [],
   "source": []
  }
 ],
 "metadata": {
  "kernelspec": {
   "display_name": "Python [conda env:base] *",
   "language": "python",
   "name": "conda-base-py"
  },
  "language_info": {
   "codemirror_mode": {
    "name": "ipython",
    "version": 3
   },
   "file_extension": ".py",
   "mimetype": "text/x-python",
   "name": "python",
   "nbconvert_exporter": "python",
   "pygments_lexer": "ipython3",
   "version": "3.12.7"
  }
 },
 "nbformat": 4,
 "nbformat_minor": 5
}
